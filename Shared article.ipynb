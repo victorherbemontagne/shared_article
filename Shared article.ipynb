{
 "cells": [
  {
   "cell_type": "code",
   "execution_count": 1,
   "metadata": {
    "collapsed": true
   },
   "outputs": [],
   "source": [
    "import pandas as pd\n",
    "import numpy as np\n",
    "\n",
    "columns = ['id','nb_words_title','nb_words_content','pp_uniq_words','pp_stop_words','pp_uniq_non-stop_words',\n",
    "            'nb_links','nb_outside_links','nb_images','nb_videos','ave_word_length','nb_keywords','category',\n",
    "            'nb_mina_mink','nb_mina_maxk','nb_mina_avek','nb_maxa_mink','nb_maxa_maxk','nb_maxa_avek','nb_avea_mink',\n",
    "            'nb_avea_maxk','nb_avea_avek','nb_min_linked','nb_max_linked','nb_ave_linked','weekday','dist_topic_0',\n",
    "            'dist_topic_1','dist_topic_2','dist_topic_3','dist_topic_4','subj','polar','pp_pos_words','pp_neg_words',\n",
    "            'pp_pos_words_in_nonneutral','ave_polar_pos','min_polar_pos','max_polar_pos','ave_polar_neg','min_polar_neg',\n",
    "            'max_polar_neg','subj_title','polar_title'\n",
    "          ]\n",
    "\n",
    "train_data = pd.read_csv('train.csv', delimiter =' ', names = columns)\n",
    "train_data_target = pd.read_csv('train-targets.csv')\n",
    "\n",
    "\n",
    "test_set = pd.read_csv('test-val.csv', delimiter = ' ')\n"
   ]
  },
  {
   "cell_type": "code",
   "execution_count": 50,
   "metadata": {},
   "outputs": [
    {
     "data": {
      "text/plain": [
       "[2, 3]"
      ]
     },
     "execution_count": 50,
     "metadata": {},
     "output_type": "execute_result"
    }
   ],
   "source": [
    "L = [1,2,3]\n",
    "\n",
    "L[1:]"
   ]
  },
  {
   "cell_type": "code",
   "execution_count": 58,
   "metadata": {},
   "outputs": [
    {
     "data": {
      "text/html": [
       "<div>\n",
       "<style>\n",
       "    .dataframe thead tr:only-child th {\n",
       "        text-align: right;\n",
       "    }\n",
       "\n",
       "    .dataframe thead th {\n",
       "        text-align: left;\n",
       "    }\n",
       "\n",
       "    .dataframe tbody tr th {\n",
       "        vertical-align: top;\n",
       "    }\n",
       "</style>\n",
       "<table border=\"1\" class=\"dataframe\">\n",
       "  <thead>\n",
       "    <tr style=\"text-align: right;\">\n",
       "      <th></th>\n",
       "      <th>nb_words_title</th>\n",
       "      <th>nb_words_content</th>\n",
       "      <th>pp_uniq_words</th>\n",
       "      <th>pp_stop_words</th>\n",
       "      <th>pp_uniq_non-stop_words</th>\n",
       "      <th>nb_links</th>\n",
       "      <th>nb_outside_links</th>\n",
       "      <th>nb_images</th>\n",
       "      <th>nb_videos</th>\n",
       "      <th>ave_word_length</th>\n",
       "      <th>...</th>\n",
       "      <th>pp_neg_words</th>\n",
       "      <th>pp_pos_words_in_nonneutral</th>\n",
       "      <th>ave_polar_pos</th>\n",
       "      <th>min_polar_pos</th>\n",
       "      <th>max_polar_pos</th>\n",
       "      <th>ave_polar_neg</th>\n",
       "      <th>min_polar_neg</th>\n",
       "      <th>max_polar_neg</th>\n",
       "      <th>subj_title</th>\n",
       "      <th>polar_title</th>\n",
       "    </tr>\n",
       "  </thead>\n",
       "  <tbody>\n",
       "    <tr>\n",
       "      <th>0</th>\n",
       "      <td>-0.655717</td>\n",
       "      <td>0.602013</td>\n",
       "      <td>0.040637</td>\n",
       "      <td>-0.176467</td>\n",
       "      <td>0.483878</td>\n",
       "      <td>0.401012</td>\n",
       "      <td>0.058959</td>\n",
       "      <td>0.833332</td>\n",
       "      <td>-0.059255</td>\n",
       "      <td>0.001274</td>\n",
       "      <td>...</td>\n",
       "      <td>0.255940</td>\n",
       "      <td>0.157739</td>\n",
       "      <td>0.858419</td>\n",
       "      <td>-0.845050</td>\n",
       "      <td>0.982772</td>\n",
       "      <td>-0.490327</td>\n",
       "      <td>-0.982572</td>\n",
       "      <td>0.607299</td>\n",
       "      <td>-0.892007</td>\n",
       "      <td>-0.276578</td>\n",
       "    </tr>\n",
       "    <tr>\n",
       "      <th>1</th>\n",
       "      <td>-0.655717</td>\n",
       "      <td>0.520422</td>\n",
       "      <td>-0.811674</td>\n",
       "      <td>-0.176467</td>\n",
       "      <td>-0.677941</td>\n",
       "      <td>-0.253228</td>\n",
       "      <td>-0.043117</td>\n",
       "      <td>-0.423503</td>\n",
       "      <td>-0.312267</td>\n",
       "      <td>0.001274</td>\n",
       "      <td>...</td>\n",
       "      <td>0.863708</td>\n",
       "      <td>-0.781709</td>\n",
       "      <td>-0.439878</td>\n",
       "      <td>-0.612798</td>\n",
       "      <td>0.172965</td>\n",
       "      <td>-0.733670</td>\n",
       "      <td>-0.687342</td>\n",
       "      <td>0.048126</td>\n",
       "      <td>1.889990</td>\n",
       "      <td>0.876968</td>\n",
       "    </tr>\n",
       "    <tr>\n",
       "      <th>2</th>\n",
       "      <td>-1.130874</td>\n",
       "      <td>-0.896681</td>\n",
       "      <td>1.680713</td>\n",
       "      <td>-0.176467</td>\n",
       "      <td>1.150484</td>\n",
       "      <td>-0.346691</td>\n",
       "      <td>-0.451423</td>\n",
       "      <td>-0.549187</td>\n",
       "      <td>0.193756</td>\n",
       "      <td>0.001274</td>\n",
       "      <td>...</td>\n",
       "      <td>-0.842451</td>\n",
       "      <td>0.780895</td>\n",
       "      <td>0.126930</td>\n",
       "      <td>0.590956</td>\n",
       "      <td>-1.041745</td>\n",
       "      <td>0.441284</td>\n",
       "      <td>1.084383</td>\n",
       "      <td>-1.070220</td>\n",
       "      <td>-0.892007</td>\n",
       "      <td>-0.276578</td>\n",
       "    </tr>\n",
       "    <tr>\n",
       "      <th>3</th>\n",
       "      <td>0.769755</td>\n",
       "      <td>-0.776442</td>\n",
       "      <td>0.774857</td>\n",
       "      <td>-0.176467</td>\n",
       "      <td>0.928064</td>\n",
       "      <td>-0.346691</td>\n",
       "      <td>-0.553500</td>\n",
       "      <td>-0.549187</td>\n",
       "      <td>-0.312267</td>\n",
       "      <td>0.001274</td>\n",
       "      <td>...</td>\n",
       "      <td>0.987513</td>\n",
       "      <td>0.275562</td>\n",
       "      <td>0.172888</td>\n",
       "      <td>0.590956</td>\n",
       "      <td>-0.636842</td>\n",
       "      <td>-1.164942</td>\n",
       "      <td>0.395398</td>\n",
       "      <td>-3.306912</td>\n",
       "      <td>-0.892007</td>\n",
       "      <td>-0.276578</td>\n",
       "    </tr>\n",
       "    <tr>\n",
       "      <th>4</th>\n",
       "      <td>1.244912</td>\n",
       "      <td>0.237002</td>\n",
       "      <td>-0.508744</td>\n",
       "      <td>-0.176467</td>\n",
       "      <td>-0.509817</td>\n",
       "      <td>-0.253228</td>\n",
       "      <td>-0.043117</td>\n",
       "      <td>-0.423503</td>\n",
       "      <td>-0.312267</td>\n",
       "      <td>0.001274</td>\n",
       "      <td>...</td>\n",
       "      <td>0.463219</td>\n",
       "      <td>-0.637178</td>\n",
       "      <td>-0.038708</td>\n",
       "      <td>-0.612798</td>\n",
       "      <td>-0.636842</td>\n",
       "      <td>0.091930</td>\n",
       "      <td>-0.982572</td>\n",
       "      <td>0.048126</td>\n",
       "      <td>-0.892007</td>\n",
       "      <td>-0.276578</td>\n",
       "    </tr>\n",
       "  </tbody>\n",
       "</table>\n",
       "<p>5 rows × 43 columns</p>\n",
       "</div>"
      ],
      "text/plain": [
       "   nb_words_title  nb_words_content  pp_uniq_words  pp_stop_words  \\\n",
       "0       -0.655717          0.602013       0.040637      -0.176467   \n",
       "1       -0.655717          0.520422      -0.811674      -0.176467   \n",
       "2       -1.130874         -0.896681       1.680713      -0.176467   \n",
       "3        0.769755         -0.776442       0.774857      -0.176467   \n",
       "4        1.244912          0.237002      -0.508744      -0.176467   \n",
       "\n",
       "   pp_uniq_non-stop_words  nb_links  nb_outside_links  nb_images  nb_videos  \\\n",
       "0                0.483878  0.401012          0.058959   0.833332  -0.059255   \n",
       "1               -0.677941 -0.253228         -0.043117  -0.423503  -0.312267   \n",
       "2                1.150484 -0.346691         -0.451423  -0.549187   0.193756   \n",
       "3                0.928064 -0.346691         -0.553500  -0.549187  -0.312267   \n",
       "4               -0.509817 -0.253228         -0.043117  -0.423503  -0.312267   \n",
       "\n",
       "   ave_word_length     ...       pp_neg_words  pp_pos_words_in_nonneutral  \\\n",
       "0         0.001274     ...           0.255940                    0.157739   \n",
       "1         0.001274     ...           0.863708                   -0.781709   \n",
       "2         0.001274     ...          -0.842451                    0.780895   \n",
       "3         0.001274     ...           0.987513                    0.275562   \n",
       "4         0.001274     ...           0.463219                   -0.637178   \n",
       "\n",
       "   ave_polar_pos  min_polar_pos  max_polar_pos  ave_polar_neg  min_polar_neg  \\\n",
       "0       0.858419      -0.845050       0.982772      -0.490327      -0.982572   \n",
       "1      -0.439878      -0.612798       0.172965      -0.733670      -0.687342   \n",
       "2       0.126930       0.590956      -1.041745       0.441284       1.084383   \n",
       "3       0.172888       0.590956      -0.636842      -1.164942       0.395398   \n",
       "4      -0.038708      -0.612798      -0.636842       0.091930      -0.982572   \n",
       "\n",
       "   max_polar_neg  subj_title  polar_title  \n",
       "0       0.607299   -0.892007    -0.276578  \n",
       "1       0.048126    1.889990     0.876968  \n",
       "2      -1.070220   -0.892007    -0.276578  \n",
       "3      -3.306912   -0.892007    -0.276578  \n",
       "4       0.048126   -0.892007    -0.276578  \n",
       "\n",
       "[5 rows x 43 columns]"
      ]
     },
     "execution_count": 58,
     "metadata": {},
     "output_type": "execute_result"
    }
   ],
   "source": [
    "from sklearn import preprocessing as pre\n",
    "\n",
    "util_train_data = pre.scale(train_data.drop('id', axis=1))\n",
    "\n",
    "util_train_data = pd.DataFrame(util_train_data, columns = columns[1:])\n",
    "\n",
    "util_train_data.head()\n",
    "\n",
    "#util_train_data['id'] = train_data['id']"
   ]
  },
  {
   "cell_type": "code",
   "execution_count": 3,
   "metadata": {
    "collapsed": true
   },
   "outputs": [],
   "source": [
    "import random\n",
    "from sklearn.model_selection import train_test_split\n",
    "\n",
    "train_data,test_set,target_train,target_test = train_test_split(train_data,train_data_target['Prediction'],random_state = 0)\n"
   ]
  },
  {
   "cell_type": "code",
   "execution_count": null,
   "metadata": {
    "collapsed": true,
    "scrolled": true
   },
   "outputs": [],
   "source": []
  },
  {
   "cell_type": "code",
   "execution_count": 5,
   "metadata": {
    "collapsed": true
   },
   "outputs": [],
   "source": [
    "import sklearn\n",
    "from sklearn import svm\n",
    "from sklearn.model_selection import cross_val_score\n",
    "\n",
    "def compute_score(clf,X, y):\n",
    "    xval = cross_val_score(clf, X, y, cv = 5)\n",
    "    return(np.mean(xval))"
   ]
  },
  {
   "cell_type": "code",
   "execution_count": 6,
   "metadata": {},
   "outputs": [
    {
     "name": "stderr",
     "output_type": "stream",
     "text": [
      "C:\\Users\\victor\\AppData\\Local\\Continuum\\anaconda3\\lib\\site-packages\\sklearn\\model_selection\\_split.py:597: Warning: The least populated class in y has only 1 members, which is too few. The minimum number of members in any class cannot be less than n_splits=10.\n",
      "  % (min_groups, self.n_splits)), Warning)\n"
     ]
    }
   ],
   "source": [
    "clf = svm.LinearSVC()\n",
    "\n",
    "\n",
    "clf.fit(train_data,target_train)\n",
    "scores = cross_val_score(clf, test_set, target_test, cv=10)\n",
    "# L'analyse lineaire est terrible\n"
   ]
  },
  {
   "cell_type": "code",
   "execution_count": 9,
   "metadata": {
    "scrolled": true
   },
   "outputs": [
    {
     "data": {
      "text/plain": [
       "array([ 0.00171821,  0.        ,  0.        ,  0.        ,  0.        ,\n",
       "        0.        ,  0.        ,  0.        ,  0.        ,  0.        ])"
      ]
     },
     "execution_count": 9,
     "metadata": {},
     "output_type": "execute_result"
    }
   ],
   "source": [
    "scores"
   ]
  },
  {
   "cell_type": "code",
   "execution_count": 65,
   "metadata": {
    "scrolled": true
   },
   "outputs": [
    {
     "name": "stdout",
     "output_type": "stream",
     "text": [
      "PCA(copy=True, iterated_power='auto', n_components=25, random_state=None,\n",
      "  svd_solver='auto', tol=0.0, whiten=False)\n"
     ]
    },
    {
     "data": {
      "text/plain": [
       "<matplotlib.text.Text at 0x1776dcf3080>"
      ]
     },
     "execution_count": 65,
     "metadata": {},
     "output_type": "execute_result"
    },
    {
     "data": {
      "image/png": "[encoded data removed]",
      "text/plain": [
       "<matplotlib.figure.Figure at 0x1776dac64e0>"
      ]
     },
     "metadata": {},
     "output_type": "display_data"
    }
   ],
   "source": [
    "from sklearn.decomposition import PCA\n",
    "\n",
    "%matplotlib inline\n",
    "\n",
    "import matplotlib.pyplot as plt\n",
    "plt.style.use('ggplot')\n",
    "\n",
    "pca = PCA(n_components = 25)\n",
    "print(pca.fit(util_train_data))\n",
    "pca.explained_variance_ratio_\n",
    "\n",
    "plt.bar(np.arange(len(pca.explained_variance_ratio_))+0.5, pca.explained_variance_ratio_)\n",
    "plt.title(\"Variance expliquée\")\n",
    "\n"
   ]
  },
  {
   "cell_type": "code",
   "execution_count": null,
   "metadata": {
    "collapsed": true
   },
   "outputs": [],
   "source": [
    "#Test avec xgboost"
   ]
  },
  {
   "cell_type": "code",
   "execution_count": 66,
   "metadata": {},
   "outputs": [
    {
     "name": "stdout",
     "output_type": "stream",
     "text": [
      "0.935065760494\n"
     ]
    }
   ],
   "source": [
    "print(sum(pca.explained_variance_ratio_))"
   ]
  },
  {
   "cell_type": "code",
   "execution_count": null,
   "metadata": {
    "collapsed": true
   },
   "outputs": [],
   "source": []
  },
  {
   "cell_type": "code",
   "execution_count": null,
   "metadata": {
    "collapsed": true
   },
   "outputs": [],
   "source": []
  },
  {
   "cell_type": "code",
   "execution_count": null,
   "metadata": {
    "collapsed": true
   },
   "outputs": [],
   "source": []
  },
  {
   "cell_type": "code",
   "execution_count": null,
   "metadata": {
    "collapsed": true
   },
   "outputs": [],
   "source": []
  },
  {
   "cell_type": "code",
   "execution_count": null,
   "metadata": {
    "collapsed": true
   },
   "outputs": [],
   "source": []
  },
  {
   "cell_type": "code",
   "execution_count": null,
   "metadata": {
    "collapsed": true
   },
   "outputs": [],
   "source": []
  },
  {
   "cell_type": "code",
   "execution_count": null,
   "metadata": {
    "collapsed": true
   },
   "outputs": [],
   "source": []
  },
  {
   "cell_type": "code",
   "execution_count": null,
   "metadata": {
    "collapsed": true
   },
   "outputs": [],
   "source": []
  },
  {
   "cell_type": "code",
   "execution_count": null,
   "metadata": {
    "collapsed": true
   },
   "outputs": [],
   "source": []
  },
  {
   "cell_type": "code",
   "execution_count": null,
   "metadata": {
    "collapsed": true
   },
   "outputs": [],
   "source": []
  },
  {
   "cell_type": "code",
   "execution_count": null,
   "metadata": {
    "collapsed": true
   },
   "outputs": [],
   "source": []
  },
  {
   "cell_type": "code",
   "execution_count": null,
   "metadata": {
    "collapsed": true
   },
   "outputs": [],
   "source": []
  },
  {
   "cell_type": "code",
   "execution_count": null,
   "metadata": {
    "collapsed": true
   },
   "outputs": [],
   "source": []
  }
 ],
 "metadata": {
  "kernelspec": {
   "display_name": "Python [default]",
   "language": "python",
   "name": "python3"
  },
  "language_info": {
   "codemirror_mode": {
    "name": "ipython",
    "version": 3
   },
   "file_extension": ".py",
   "mimetype": "text/x-python",
   "name": "python",
   "nbconvert_exporter": "python",
   "pygments_lexer": "ipython3",
   "version": "3.6.2"
  }
 },
 "nbformat": 4,
 "nbformat_minor": 2
}
