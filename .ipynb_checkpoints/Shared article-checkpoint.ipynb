{
 "cells": [
  {
   "cell_type": "code",
   "execution_count": 14,
   "metadata": {
    "collapsed": true
   },
   "outputs": [],
   "source": [
    "import pandas as pd\n",
    "import numpy as np\n",
    "\n",
    "columns = ['id','nb_words_title','nb_words_content','pp_uniq_words','pp_stop_words','pp_uniq_non-stop_words',\n",
    "            'nb_links','nb_outside_links','nb_images','nb_videos','ave_word_length','nb_keywords','category',\n",
    "            'nb_mina_mink','nb_mina_maxk','nb_mina_avek','nb_maxa_mink','nb_maxa_maxk','nb_maxa_avek','nb_avea_mink',\n",
    "            'nb_avea_maxk','nb_avea_avek','nb_min_linked','nb_max_linked','nb_ave_linked','weekday','dist_topic_0',\n",
    "            'dist_topic_1','dist_topic_2','dist_topic_3','dist_topic_4','subj','polar','pp_pos_words','pp_neg_words',\n",
    "            'pp_pos_words_in_nonneutral','ave_polar_pos','min_polar_pos','max_polar_pos','ave_polar_neg','min_polar_neg',\n",
    "            'max_polar_neg','subj_title','polar_title'\n",
    "          ]\n",
    "\n",
    "train_data = pd.read_csv('../train.csv', delimiter =' ', names = columns)\n",
    "train_data_target = pd.read_csv('../train-targets.csv')\n",
    "\n",
    "\n",
    "test_set = pd.read_csv('../test-val.csv', delimiter = ' ')\n"
   ]
  },
  {
   "cell_type": "code",
   "execution_count": 37,
   "metadata": {},
   "outputs": [
    {
     "data": {
      "text/plain": [
       "4154      928\n",
       "4820     1104\n",
       "1202     1404\n",
       "3759     1502\n",
       "622      1603\n",
       "4365     3402\n",
       "1457     1403\n",
       "2058      926\n",
       "2078      964\n",
       "1536     2603\n",
       "1642     8104\n",
       "2215      863\n",
       "2863     2002\n",
       "3349     6304\n",
       "3374     1000\n",
       "4689     1301\n",
       "3287     1901\n",
       "3687    11401\n",
       "408     14902\n",
       "4753     1002\n",
       "1376     6404\n",
       "1077      426\n",
       "1515      712\n",
       "1926     1100\n",
       "4708     8501\n",
       "2669     1403\n",
       "4598     1000\n",
       "1256     1504\n",
       "429      2201\n",
       "4894      761\n",
       "        ...  \n",
       "3337     3903\n",
       "423       709\n",
       "3219     2104\n",
       "659       480\n",
       "797       908\n",
       "755      1102\n",
       "2008     3304\n",
       "99       3301\n",
       "2496     2000\n",
       "1871     2303\n",
       "2046     1701\n",
       "4851     4200\n",
       "2163     4602\n",
       "2893      714\n",
       "537      1103\n",
       "1701     1003\n",
       "2897     1503\n",
       "2222     1603\n",
       "2135     3602\n",
       "2599     3401\n",
       "705       905\n",
       "3468     1802\n",
       "4373    15000\n",
       "1033     5403\n",
       "4859     1103\n",
       "4931     1201\n",
       "3264      729\n",
       "1653     1103\n",
       "2607      609\n",
       "2732    95401\n",
       "Name: Prediction, Length: 3750, dtype: int64"
      ]
     },
     "execution_count": 37,
     "metadata": {},
     "output_type": "execute_result"
    }
   ],
   "source": [
    "target_train"
   ]
  },
  {
   "cell_type": "code",
   "execution_count": 17,
   "metadata": {},
   "outputs": [
    {
     "data": {
      "text/html": [
       "<div>\n",
       "<style>\n",
       "    .dataframe thead tr:only-child th {\n",
       "        text-align: right;\n",
       "    }\n",
       "\n",
       "    .dataframe thead th {\n",
       "        text-align: left;\n",
       "    }\n",
       "\n",
       "    .dataframe tbody tr th {\n",
       "        vertical-align: top;\n",
       "    }\n",
       "</style>\n",
       "<table border=\"1\" class=\"dataframe\">\n",
       "  <thead>\n",
       "    <tr style=\"text-align: right;\">\n",
       "      <th></th>\n",
       "      <th>nb_words_title</th>\n",
       "      <th>nb_words_content</th>\n",
       "      <th>pp_uniq_words</th>\n",
       "      <th>pp_stop_words</th>\n",
       "      <th>pp_uniq_non-stop_words</th>\n",
       "      <th>nb_links</th>\n",
       "      <th>nb_outside_links</th>\n",
       "      <th>nb_images</th>\n",
       "      <th>nb_videos</th>\n",
       "      <th>ave_word_length</th>\n",
       "      <th>...</th>\n",
       "      <th>pp_neg_words</th>\n",
       "      <th>pp_pos_words_in_nonneutral</th>\n",
       "      <th>ave_polar_pos</th>\n",
       "      <th>min_polar_pos</th>\n",
       "      <th>max_polar_pos</th>\n",
       "      <th>ave_polar_neg</th>\n",
       "      <th>min_polar_neg</th>\n",
       "      <th>max_polar_neg</th>\n",
       "      <th>subj_title</th>\n",
       "      <th>polar_title</th>\n",
       "    </tr>\n",
       "  </thead>\n",
       "  <tbody>\n",
       "    <tr>\n",
       "      <th>0</th>\n",
       "      <td>2.647158</td>\n",
       "      <td>0.220490</td>\n",
       "      <td>-0.166703</td>\n",
       "      <td>-0.178664</td>\n",
       "      <td>0.105423</td>\n",
       "      <td>0.401968</td>\n",
       "      <td>0.566553</td>\n",
       "      <td>-0.036706</td>\n",
       "      <td>0.708096</td>\n",
       "      <td>0.000336</td>\n",
       "      <td>...</td>\n",
       "      <td>-0.809391</td>\n",
       "      <td>0.409630</td>\n",
       "      <td>1.011859</td>\n",
       "      <td>-0.841898</td>\n",
       "      <td>0.986842</td>\n",
       "      <td>-0.202165</td>\n",
       "      <td>0.048199</td>\n",
       "      <td>-0.211113</td>\n",
       "      <td>-0.887332</td>\n",
       "      <td>-0.285494</td>\n",
       "    </tr>\n",
       "    <tr>\n",
       "      <th>1</th>\n",
       "      <td>1.223138</td>\n",
       "      <td>-0.358243</td>\n",
       "      <td>0.343875</td>\n",
       "      <td>-0.178664</td>\n",
       "      <td>-0.082927</td>\n",
       "      <td>0.959466</td>\n",
       "      <td>1.276095</td>\n",
       "      <td>-0.424443</td>\n",
       "      <td>-0.304337</td>\n",
       "      <td>0.000336</td>\n",
       "      <td>...</td>\n",
       "      <td>0.699381</td>\n",
       "      <td>-1.108163</td>\n",
       "      <td>-1.213749</td>\n",
       "      <td>0.089794</td>\n",
       "      <td>-1.040652</td>\n",
       "      <td>-0.915545</td>\n",
       "      <td>-1.682731</td>\n",
       "      <td>0.061549</td>\n",
       "      <td>0.513037</td>\n",
       "      <td>0.239643</td>\n",
       "    </tr>\n",
       "    <tr>\n",
       "      <th>2</th>\n",
       "      <td>-0.200882</td>\n",
       "      <td>-0.209680</td>\n",
       "      <td>0.053475</td>\n",
       "      <td>-0.178664</td>\n",
       "      <td>-0.219790</td>\n",
       "      <td>1.795712</td>\n",
       "      <td>1.884274</td>\n",
       "      <td>3.969916</td>\n",
       "      <td>-0.304337</td>\n",
       "      <td>0.000336</td>\n",
       "      <td>...</td>\n",
       "      <td>-0.476383</td>\n",
       "      <td>0.278848</td>\n",
       "      <td>-0.171267</td>\n",
       "      <td>0.598473</td>\n",
       "      <td>0.175844</td>\n",
       "      <td>-1.357276</td>\n",
       "      <td>-0.990359</td>\n",
       "      <td>-0.483776</td>\n",
       "      <td>0.653228</td>\n",
       "      <td>-0.285494</td>\n",
       "    </tr>\n",
       "    <tr>\n",
       "      <th>3</th>\n",
       "      <td>0.273792</td>\n",
       "      <td>-0.198593</td>\n",
       "      <td>0.108336</td>\n",
       "      <td>-0.178664</td>\n",
       "      <td>0.051329</td>\n",
       "      <td>-0.341362</td>\n",
       "      <td>-0.345716</td>\n",
       "      <td>-0.424443</td>\n",
       "      <td>-0.051229</td>\n",
       "      <td>0.000336</td>\n",
       "      <td>...</td>\n",
       "      <td>-0.510191</td>\n",
       "      <td>0.347626</td>\n",
       "      <td>0.783787</td>\n",
       "      <td>2.684893</td>\n",
       "      <td>0.175844</td>\n",
       "      <td>0.214577</td>\n",
       "      <td>0.048199</td>\n",
       "      <td>0.606873</td>\n",
       "      <td>-0.784638</td>\n",
       "      <td>-0.285494</td>\n",
       "    </tr>\n",
       "    <tr>\n",
       "      <th>4</th>\n",
       "      <td>-1.150228</td>\n",
       "      <td>0.025361</td>\n",
       "      <td>0.070299</td>\n",
       "      <td>-0.178664</td>\n",
       "      <td>0.248151</td>\n",
       "      <td>0.030303</td>\n",
       "      <td>-0.142990</td>\n",
       "      <td>-0.424443</td>\n",
       "      <td>-0.304337</td>\n",
       "      <td>0.000336</td>\n",
       "      <td>...</td>\n",
       "      <td>-1.201657</td>\n",
       "      <td>1.233396</td>\n",
       "      <td>0.492994</td>\n",
       "      <td>0.598473</td>\n",
       "      <td>0.986842</td>\n",
       "      <td>1.349535</td>\n",
       "      <td>1.346396</td>\n",
       "      <td>0.606873</td>\n",
       "      <td>-0.887332</td>\n",
       "      <td>-0.285494</td>\n",
       "    </tr>\n",
       "  </tbody>\n",
       "</table>\n",
       "<p>5 rows × 43 columns</p>\n",
       "</div>"
      ],
      "text/plain": [
       "   nb_words_title  nb_words_content  pp_uniq_words  pp_stop_words  \\\n",
       "0        2.647158          0.220490      -0.166703      -0.178664   \n",
       "1        1.223138         -0.358243       0.343875      -0.178664   \n",
       "2       -0.200882         -0.209680       0.053475      -0.178664   \n",
       "3        0.273792         -0.198593       0.108336      -0.178664   \n",
       "4       -1.150228          0.025361       0.070299      -0.178664   \n",
       "\n",
       "   pp_uniq_non-stop_words  nb_links  nb_outside_links  nb_images  nb_videos  \\\n",
       "0                0.105423  0.401968          0.566553  -0.036706   0.708096   \n",
       "1               -0.082927  0.959466          1.276095  -0.424443  -0.304337   \n",
       "2               -0.219790  1.795712          1.884274   3.969916  -0.304337   \n",
       "3                0.051329 -0.341362         -0.345716  -0.424443  -0.051229   \n",
       "4                0.248151  0.030303         -0.142990  -0.424443  -0.304337   \n",
       "\n",
       "   ave_word_length     ...       pp_neg_words  pp_pos_words_in_nonneutral  \\\n",
       "0         0.000336     ...          -0.809391                    0.409630   \n",
       "1         0.000336     ...           0.699381                   -1.108163   \n",
       "2         0.000336     ...          -0.476383                    0.278848   \n",
       "3         0.000336     ...          -0.510191                    0.347626   \n",
       "4         0.000336     ...          -1.201657                    1.233396   \n",
       "\n",
       "   ave_polar_pos  min_polar_pos  max_polar_pos  ave_polar_neg  min_polar_neg  \\\n",
       "0       1.011859      -0.841898       0.986842      -0.202165       0.048199   \n",
       "1      -1.213749       0.089794      -1.040652      -0.915545      -1.682731   \n",
       "2      -0.171267       0.598473       0.175844      -1.357276      -0.990359   \n",
       "3       0.783787       2.684893       0.175844       0.214577       0.048199   \n",
       "4       0.492994       0.598473       0.986842       1.349535       1.346396   \n",
       "\n",
       "   max_polar_neg  subj_title  polar_title  \n",
       "0      -0.211113   -0.887332    -0.285494  \n",
       "1       0.061549    0.513037     0.239643  \n",
       "2      -0.483776    0.653228    -0.285494  \n",
       "3       0.606873   -0.784638    -0.285494  \n",
       "4       0.606873   -0.887332    -0.285494  \n",
       "\n",
       "[5 rows x 43 columns]"
      ]
     },
     "execution_count": 17,
     "metadata": {},
     "output_type": "execute_result"
    }
   ],
   "source": [
    "from sklearn import preprocessing as pre\n",
    "import random\n",
    "from sklearn.model_selection import train_test_split\n",
    "\n",
    "util_train_data = pre.scale(train_data.drop('id', axis=1))\n",
    "\n",
    "util_train_data = pd.DataFrame(util_train_data, columns = columns[1:])\n",
    "\n",
    "util_train_data.head()\n",
    "\n",
    "#util_train_data['id'] = train_data['id']"
   ]
  },
  {
   "cell_type": "code",
   "execution_count": 16,
   "metadata": {},
   "outputs": [],
   "source": []
  },
  {
   "cell_type": "code",
   "execution_count": null,
   "metadata": {
    "collapsed": true,
    "scrolled": true
   },
   "outputs": [],
   "source": []
  },
  {
   "cell_type": "code",
   "execution_count": 25,
   "metadata": {},
   "outputs": [],
   "source": [
    "import sklearn\n",
    "from sklearn.ensemble import RandomForestClassifier\n",
    "from sklearn.model_selection import cross_val_score\n",
    "\n",
    "def compute_score(clf,X, y):\n",
    "    xval = cross_val_score(clf, X, y, cv = 5)\n",
    "    return(np.mean(xval))"
   ]
  },
  {
   "cell_type": "code",
   "execution_count": 26,
   "metadata": {},
   "outputs": [
    {
     "name": "stderr",
     "output_type": "stream",
     "text": [
      "C:\\Users\\victor\\AppData\\Local\\Continuum\\anaconda3\\lib\\site-packages\\sklearn\\model_selection\\_split.py:597: Warning: The least populated class in y has only 1 members, which is too few. The minimum number of members in any class cannot be less than n_splits=10.\n",
      "  % (min_groups, self.n_splits)), Warning)\n"
     ]
    }
   ],
   "source": [
    "clf = RandomForestClassifier()\n",
    "\n",
    "\n",
    "clf.fit(train_data,target_train)\n",
    "scores = cross_val_score(clf, test_set, target_test, cv=10)\n",
    "# L'analyse lineaire est terrible\n"
   ]
  },
  {
   "cell_type": "code",
   "execution_count": 33,
   "metadata": {
    "scrolled": true
   },
   "outputs": [
    {
     "ename": "KeyError",
     "evalue": "'Prediction'",
     "output_type": "error",
     "traceback": [
      "\u001b[1;31m---------------------------------------------------------------------------\u001b[0m",
      "\u001b[1;31mTypeError\u001b[0m                                 Traceback (most recent call last)",
      "\u001b[1;32mpandas\\_libs\\index.pyx\u001b[0m in \u001b[0;36mpandas._libs.index.IndexEngine.get_loc\u001b[1;34m()\u001b[0m\n",
      "\u001b[1;32mpandas\\_libs\\hashtable_class_helper.pxi\u001b[0m in \u001b[0;36mpandas._libs.hashtable.Int64HashTable.get_item\u001b[1;34m()\u001b[0m\n",
      "\u001b[1;31mTypeError\u001b[0m: an integer is required",
      "\nDuring handling of the above exception, another exception occurred:\n",
      "\u001b[1;31mKeyError\u001b[0m                                  Traceback (most recent call last)",
      "\u001b[1;32m<ipython-input-33-d1921094d9db>\u001b[0m in \u001b[0;36m<module>\u001b[1;34m()\u001b[0m\n\u001b[0;32m      2\u001b[0m \u001b[1;33m\u001b[0m\u001b[0m\n\u001b[0;32m      3\u001b[0m \u001b[1;32mfor\u001b[0m \u001b[0mk\u001b[0m \u001b[1;32min\u001b[0m \u001b[0mrange\u001b[0m\u001b[1;33m(\u001b[0m\u001b[0mnbr_split\u001b[0m\u001b[1;33m)\u001b[0m\u001b[1;33m:\u001b[0m\u001b[1;33m\u001b[0m\u001b[0m\n\u001b[1;32m----> 4\u001b[1;33m     \u001b[0mtarget_train\u001b[0m\u001b[1;33m[\u001b[0m\u001b[1;34m'cluster'\u001b[0m\u001b[1;33m]\u001b[0m \u001b[1;33m=\u001b[0m \u001b[0mtarget_train\u001b[0m\u001b[1;33m[\u001b[0m\u001b[1;34m'Prediction'\u001b[0m\u001b[1;33m]\u001b[0m\u001b[1;33m.\u001b[0m\u001b[0mapply\u001b[0m\u001b[1;33m(\u001b[0m\u001b[1;32mlambda\u001b[0m \u001b[0mx\u001b[0m\u001b[1;33m:\u001b[0m \u001b[0mx\u001b[0m\u001b[1;33m//\u001b[0m\u001b[0mnbr_split\u001b[0m\u001b[1;33m)\u001b[0m\u001b[1;33m\u001b[0m\u001b[0m\n\u001b[0m\u001b[0;32m      5\u001b[0m     \u001b[0mtarget_test\u001b[0m\u001b[1;33m[\u001b[0m\u001b[1;34m'cluster'\u001b[0m\u001b[1;33m]\u001b[0m \u001b[1;33m=\u001b[0m \u001b[0mtarget_test\u001b[0m\u001b[1;33m[\u001b[0m\u001b[1;34m'Prediction'\u001b[0m\u001b[1;33m]\u001b[0m\u001b[1;33m.\u001b[0m\u001b[0mapply\u001b[0m\u001b[1;33m(\u001b[0m\u001b[1;32mlambda\u001b[0m \u001b[0mx\u001b[0m\u001b[1;33m:\u001b[0m \u001b[0mx\u001b[0m\u001b[1;33m//\u001b[0m\u001b[0mnbr_split\u001b[0m\u001b[1;33m)\u001b[0m\u001b[1;33m\u001b[0m\u001b[0m\n\u001b[0;32m      6\u001b[0m     \u001b[0mclf\u001b[0m\u001b[1;33m.\u001b[0m\u001b[0mfit\u001b[0m\u001b[1;33m(\u001b[0m\u001b[0mtrain_data\u001b[0m\u001b[1;33m,\u001b[0m\u001b[0mtarget_train\u001b[0m\u001b[1;33m[\u001b[0m\u001b[1;34m'cluster'\u001b[0m\u001b[1;33m]\u001b[0m\u001b[1;33m)\u001b[0m\u001b[1;33m\u001b[0m\u001b[0m\n",
      "\u001b[1;32m~\\AppData\\Local\\Continuum\\anaconda3\\lib\\site-packages\\pandas\\core\\series.py\u001b[0m in \u001b[0;36m__getitem__\u001b[1;34m(self, key)\u001b[0m\n\u001b[0;32m    599\u001b[0m         \u001b[0mkey\u001b[0m \u001b[1;33m=\u001b[0m \u001b[0mcom\u001b[0m\u001b[1;33m.\u001b[0m\u001b[0m_apply_if_callable\u001b[0m\u001b[1;33m(\u001b[0m\u001b[0mkey\u001b[0m\u001b[1;33m,\u001b[0m \u001b[0mself\u001b[0m\u001b[1;33m)\u001b[0m\u001b[1;33m\u001b[0m\u001b[0m\n\u001b[0;32m    600\u001b[0m         \u001b[1;32mtry\u001b[0m\u001b[1;33m:\u001b[0m\u001b[1;33m\u001b[0m\u001b[0m\n\u001b[1;32m--> 601\u001b[1;33m             \u001b[0mresult\u001b[0m \u001b[1;33m=\u001b[0m \u001b[0mself\u001b[0m\u001b[1;33m.\u001b[0m\u001b[0mindex\u001b[0m\u001b[1;33m.\u001b[0m\u001b[0mget_value\u001b[0m\u001b[1;33m(\u001b[0m\u001b[0mself\u001b[0m\u001b[1;33m,\u001b[0m \u001b[0mkey\u001b[0m\u001b[1;33m)\u001b[0m\u001b[1;33m\u001b[0m\u001b[0m\n\u001b[0m\u001b[0;32m    602\u001b[0m \u001b[1;33m\u001b[0m\u001b[0m\n\u001b[0;32m    603\u001b[0m             \u001b[1;32mif\u001b[0m \u001b[1;32mnot\u001b[0m \u001b[0mis_scalar\u001b[0m\u001b[1;33m(\u001b[0m\u001b[0mresult\u001b[0m\u001b[1;33m)\u001b[0m\u001b[1;33m:\u001b[0m\u001b[1;33m\u001b[0m\u001b[0m\n",
      "\u001b[1;32m~\\AppData\\Local\\Continuum\\anaconda3\\lib\\site-packages\\pandas\\core\\indexes\\base.py\u001b[0m in \u001b[0;36mget_value\u001b[1;34m(self, series, key)\u001b[0m\n\u001b[0;32m   2475\u001b[0m         \u001b[1;32mtry\u001b[0m\u001b[1;33m:\u001b[0m\u001b[1;33m\u001b[0m\u001b[0m\n\u001b[0;32m   2476\u001b[0m             return self._engine.get_value(s, k,\n\u001b[1;32m-> 2477\u001b[1;33m                                           tz=getattr(series.dtype, 'tz', None))\n\u001b[0m\u001b[0;32m   2478\u001b[0m         \u001b[1;32mexcept\u001b[0m \u001b[0mKeyError\u001b[0m \u001b[1;32mas\u001b[0m \u001b[0me1\u001b[0m\u001b[1;33m:\u001b[0m\u001b[1;33m\u001b[0m\u001b[0m\n\u001b[0;32m   2479\u001b[0m             \u001b[1;32mif\u001b[0m \u001b[0mlen\u001b[0m\u001b[1;33m(\u001b[0m\u001b[0mself\u001b[0m\u001b[1;33m)\u001b[0m \u001b[1;33m>\u001b[0m \u001b[1;36m0\u001b[0m \u001b[1;32mand\u001b[0m \u001b[0mself\u001b[0m\u001b[1;33m.\u001b[0m\u001b[0minferred_type\u001b[0m \u001b[1;32min\u001b[0m \u001b[1;33m[\u001b[0m\u001b[1;34m'integer'\u001b[0m\u001b[1;33m,\u001b[0m \u001b[1;34m'boolean'\u001b[0m\u001b[1;33m]\u001b[0m\u001b[1;33m:\u001b[0m\u001b[1;33m\u001b[0m\u001b[0m\n",
      "\u001b[1;32mpandas\\_libs\\index.pyx\u001b[0m in \u001b[0;36mpandas._libs.index.IndexEngine.get_value\u001b[1;34m()\u001b[0m\n",
      "\u001b[1;32mpandas\\_libs\\index.pyx\u001b[0m in \u001b[0;36mpandas._libs.index.IndexEngine.get_value\u001b[1;34m()\u001b[0m\n",
      "\u001b[1;32mpandas\\_libs\\index.pyx\u001b[0m in \u001b[0;36mpandas._libs.index.IndexEngine.get_loc\u001b[1;34m()\u001b[0m\n",
      "\u001b[1;31mKeyError\u001b[0m: 'Prediction'"
     ]
    }
   ],
   "source": [
    "nbr_split = 50\n",
    "\n",
    "for k in range(nbr_split):\n",
    "    train_data_target['cluster'] = train_data_target['Prediction'].apply(lambda x: x//nbr_split)\n",
    "    train_data,test_set,target_train,target_test = train_test_split(train_data,train_data_target['Prediction'],random_state = 0)\n",
    "    clf.fit(train_data,target_train['cluster'])\n",
    "    score = cross_val_score(clf, test_set, Tetarget, cv=5)\n",
    "    print('For nbr_cluster = ',nbr_cluster,\" cross validation is : \",score)\n",
    "    "
   ]
  },
  {
   "cell_type": "code",
   "execution_count": 32,
   "metadata": {},
   "outputs": [
    {
     "data": {
      "text/plain": [
       "pandas.core.series.Series"
      ]
     },
     "execution_count": 32,
     "metadata": {},
     "output_type": "execute_result"
    }
   ],
   "source": [
    "type(Trtarget)"
   ]
  },
  {
   "cell_type": "code",
   "execution_count": 8,
   "metadata": {
    "scrolled": true
   },
   "outputs": [
    {
     "name": "stdout",
     "output_type": "stream",
     "text": [
      "PCA(copy=True, iterated_power='auto', n_components=20, random_state=None,\n",
      "  svd_solver='auto', tol=0.0, whiten=False)\n"
     ]
    },
    {
     "data": {
      "text/plain": [
       "<matplotlib.text.Text at 0x2068436da58>"
      ]
     },
     "execution_count": 8,
     "metadata": {},
     "output_type": "execute_result"
    },
    {
     "data": {
      "image/png": "[encoded data removed]",
      "text/plain": [
       "<matplotlib.figure.Figure at 0x206fdb5cba8>"
      ]
     },
     "metadata": {},
     "output_type": "display_data"
    }
   ],
   "source": [
    "from sklearn.decomposition import PCA\n",
    "\n",
    "%matplotlib inline\n",
    "\n",
    "import matplotlib.pyplot as plt\n",
    "plt.style.use('ggplot')\n",
    "\n",
    "pca = PCA(n_components = 20)\n",
    "print(pca.fit(util_train_data))\n",
    "pca.explained_variance_ratio_\n",
    "\n",
    "plt.bar(np.arange(len(pca.explained_variance_ratio_))+0.5, pca.explained_variance_ratio_)\n",
    "plt.title(\"Variance expliquée\")\n",
    "\n"
   ]
  },
  {
   "cell_type": "code",
   "execution_count": 9,
   "metadata": {},
   "outputs": [
    {
     "data": {
      "text/plain": [
       "0.86866768494426805"
      ]
     },
     "execution_count": 9,
     "metadata": {},
     "output_type": "execute_result"
    }
   ],
   "source": [
    "sum(pca.explained_variance_ratio_)"
   ]
  },
  {
   "cell_type": "code",
   "execution_count": 66,
   "metadata": {},
   "outputs": [
    {
     "name": "stdout",
     "output_type": "stream",
     "text": [
      "0.935065760494\n"
     ]
    }
   ],
   "source": [
    "print(sum(pca.explained_variance_ratio_))"
   ]
  },
  {
   "cell_type": "code",
   "execution_count": null,
   "metadata": {},
   "outputs": [],
   "source": [
    "#En gros on a trop de clusters étant donné qu'on va avoir un nombre de partage qui peut a priori être n'importe quel entier\n",
    "#On va pouvoir essayer de construire des clusters itérativement et voir à prtir de quand on tombe sur le bon ratio\n",
    "#faudrait definir un ratio qui définit le bon choix de cluster\n",
    "#"
   ]
  },
  {
   "cell_type": "code",
   "execution_count": 21,
   "metadata": {},
   "outputs": [
    {
     "ename": "NameError",
     "evalue": "name 'n_digits' is not defined",
     "output_type": "error",
     "traceback": [
      "\u001b[1;31m---------------------------------------------------------------------------\u001b[0m",
      "\u001b[1;31mNameError\u001b[0m                                 Traceback (most recent call last)",
      "\u001b[1;32m<ipython-input-21-e7d3d179abd5>\u001b[0m in \u001b[0;36m<module>\u001b[1;34m()\u001b[0m\n\u001b[0;32m      1\u001b[0m \u001b[1;32mfrom\u001b[0m \u001b[0msklearn\u001b[0m\u001b[1;33m.\u001b[0m\u001b[0mcluster\u001b[0m \u001b[1;32mimport\u001b[0m \u001b[0mKMeans\u001b[0m\u001b[1;33m\u001b[0m\u001b[0m\n\u001b[0;32m      2\u001b[0m \u001b[1;33m\u001b[0m\u001b[0m\n\u001b[1;32m----> 3\u001b[1;33m \u001b[0mkmeans\u001b[0m \u001b[1;33m=\u001b[0m \u001b[0mKMeans\u001b[0m\u001b[1;33m(\u001b[0m\u001b[0minit\u001b[0m\u001b[1;33m=\u001b[0m\u001b[1;34m'k-means++'\u001b[0m\u001b[1;33m,\u001b[0m \u001b[0mn_clusters\u001b[0m\u001b[1;33m=\u001b[0m\u001b[0mn_digits\u001b[0m\u001b[1;33m,\u001b[0m \u001b[0mn_init\u001b[0m\u001b[1;33m=\u001b[0m\u001b[1;36m10\u001b[0m\u001b[1;33m)\u001b[0m\u001b[1;33m\u001b[0m\u001b[0m\n\u001b[0m\u001b[0;32m      4\u001b[0m \u001b[1;33m\u001b[0m\u001b[0m\n\u001b[0;32m      5\u001b[0m \u001b[0mkmeans\u001b[0m\u001b[1;33m.\u001b[0m\u001b[0mfit\u001b[0m\u001b[1;33m(\u001b[0m\u001b[0mutil_train_data\u001b[0m\u001b[1;33m,\u001b[0m\u001b[0mtarget_train\u001b[0m\u001b[1;33m)\u001b[0m\u001b[1;33m\u001b[0m\u001b[0m\n",
      "\u001b[1;31mNameError\u001b[0m: name 'n_digits' is not defined"
     ]
    }
   ],
   "source": [
    "from sklearn.cluster import KMeans\n",
    "\n",
    "kmeans = KMeans(init='k-means++', n_clusters=n_digits, n_init=10)\n",
    "\n",
    "kmeans.fit(util_train_data,target_train)\n",
    "\n",
    "compute_score(kmeans,test_set,target_test)\n"
   ]
  },
  {
   "cell_type": "code",
   "execution_count": null,
   "metadata": {
    "collapsed": true
   },
   "outputs": [],
   "source": []
  },
  {
   "cell_type": "code",
   "execution_count": null,
   "metadata": {
    "collapsed": true
   },
   "outputs": [],
   "source": []
  },
  {
   "cell_type": "code",
   "execution_count": null,
   "metadata": {
    "collapsed": true
   },
   "outputs": [],
   "source": []
  },
  {
   "cell_type": "code",
   "execution_count": null,
   "metadata": {
    "collapsed": true
   },
   "outputs": [],
   "source": []
  },
  {
   "cell_type": "code",
   "execution_count": null,
   "metadata": {
    "collapsed": true
   },
   "outputs": [],
   "source": []
  },
  {
   "cell_type": "code",
   "execution_count": null,
   "metadata": {
    "collapsed": true
   },
   "outputs": [],
   "source": []
  },
  {
   "cell_type": "code",
   "execution_count": null,
   "metadata": {
    "collapsed": true
   },
   "outputs": [],
   "source": []
  },
  {
   "cell_type": "code",
   "execution_count": null,
   "metadata": {
    "collapsed": true
   },
   "outputs": [],
   "source": []
  },
  {
   "cell_type": "code",
   "execution_count": null,
   "metadata": {
    "collapsed": true
   },
   "outputs": [],
   "source": []
  },
  {
   "cell_type": "code",
   "execution_count": null,
   "metadata": {
    "collapsed": true
   },
   "outputs": [],
   "source": []
  },
  {
   "cell_type": "code",
   "execution_count": null,
   "metadata": {
    "collapsed": true
   },
   "outputs": [],
   "source": []
  }
 ],
 "metadata": {
  "kernelspec": {
   "display_name": "Python [default]",
   "language": "python",
   "name": "python3"
  },
  "language_info": {
   "codemirror_mode": {
    "name": "ipython",
    "version": 3
   },
   "file_extension": ".py",
   "mimetype": "text/x-python",
   "name": "python",
   "nbconvert_exporter": "python",
   "pygments_lexer": "ipython3",
   "version": "3.6.2"
  }
 },
 "nbformat": 4,
 "nbformat_minor": 2
}
